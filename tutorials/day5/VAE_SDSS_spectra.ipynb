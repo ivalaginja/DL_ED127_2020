{
  "nbformat": 4,
  "nbformat_minor": 0,
  "metadata": {
    "colab": {
      "name": "VAE_SDSS_spectra.ipynb",
      "provenance": [],
      "collapsed_sections": [],
      "include_colab_link": true
    },
    "kernelspec": {
      "name": "python3",
      "display_name": "Python 3"
    },
    "accelerator": "GPU"
  },
  "cells": [
    {
      "cell_type": "markdown",
      "metadata": {
        "id": "view-in-github",
        "colab_type": "text"
      },
      "source": [
        "<a href=\"https://colab.research.google.com/github/mhuertascompany/DL_ED127_2020/blob/master/tutorials/day5/VAE_SDSS_spectra.ipynb\" target=\"_parent\"><img src=\"https://colab.research.google.com/assets/colab-badge.svg\" alt=\"Open In Colab\"/></a>"
      ]
    },
    {
      "cell_type": "markdown",
      "metadata": {
        "id": "DNma6PFg51c9",
        "colab_type": "text"
      },
      "source": [
        "# VAE FOR GALAXY SDSS SPECTRA"
      ]
    },
    {
      "cell_type": "markdown",
      "metadata": {
        "id": "TwR6rBQI5Xeb",
        "colab_type": "text"
      },
      "source": [
        "The goal of this tutorial is to see if VAEs are able to caputre the different galaxy types (e.g. star-forming, passive, AGNs..) from the unsupervised decomposition of spectra. See [Portillo+18](https://ui.adsabs.harvard.edu/abs/2020arXiv200210464P/abstract)\n",
        "---\n",
        "\n",
        "\n",
        "\n",
        "#### Before we start, make sure to open this Colab notebook in \"PlayGround Mode\" (top left) and to change the Runtime type to GPU by navigating to the toolbar and clicking Runtime -> Change runtime type and then changing Hardware accelerator to GPU\n",
        "\n",
        "---\n",
        "\n",
        "\n",
        "\n"
      ]
    },
    {
      "cell_type": "markdown",
      "metadata": {
        "id": "32fGHe0YVSO5",
        "colab_type": "text"
      },
      "source": [
        "## Import packages\n"
      ]
    },
    {
      "cell_type": "code",
      "metadata": {
        "id": "lH8UWWdr4h0M",
        "colab_type": "code",
        "outputId": "46ba4c2a-a2ed-4455-d00c-e4fc72341d8b",
        "colab": {
          "base_uri": "https://localhost:8080/",
          "height": 34
        }
      },
      "source": [
        "import os\n",
        "import tensorflow as tf\n",
        "import tensorflow_probability as tfp\n",
        "import numpy as np\n",
        "from sklearn import preprocessing\n",
        "import matplotlib.pyplot as plt\n",
        "import pdb\n",
        "import pickle\n",
        "from astropy.io import fits\n",
        "from astropy.visualization.stretch import SqrtStretch\n",
        "from astropy.visualization import ImageNormalize, MinMaxInterval\n",
        "\n",
        "from keras.callbacks import EarlyStopping\n",
        "from keras.callbacks import ModelCheckpoint\n",
        "from keras.callbacks import TensorBoard\n",
        "\n",
        "tfd = tfp.distributions\n",
        "tfpl = tfp.layers\n",
        "tfk = tf.keras\n",
        "tfkl = tf.keras.layers\n",
        "\n",
        "%pylab inline"
      ],
      "execution_count": 2,
      "outputs": [
        {
          "output_type": "stream",
          "text": [
            "Populating the interactive namespace from numpy and matplotlib\n"
          ],
          "name": "stdout"
        }
      ]
    },
    {
      "cell_type": "markdown",
      "metadata": {
        "id": "u1PqZCKlVSMJ",
        "colab_type": "text"
      },
      "source": [
        "## Data download and preparation\n",
        "\n",
        "Before mounting the drive click on [this folder](https://drive.google.com/drive/folders/1PcftgBzBySo1Ync-Wdsp9arTCJ_MfEPE?usp=sharing) and add it to your google drive by following these steps:\n",
        "\n",
        "*   Go to your drive \n",
        "*   Find shared folder (\"Shared with me\" link)\n",
        "*   Right click it\n",
        "*   Click Add to My Drive\n",
        "\n"
      ]
    },
    {
      "cell_type": "markdown",
      "metadata": {
        "id": "KKksKNJmgeQQ",
        "colab_type": "text"
      },
      "source": [
        "Mount your drive into Colab:"
      ]
    },
    {
      "cell_type": "code",
      "metadata": {
        "id": "8Io82GXlCNdF",
        "colab_type": "code",
        "outputId": "251f9be0-2795-457b-ecea-36c7238b4420",
        "colab": {
          "base_uri": "https://localhost:8080/",
          "height": 34
        }
      },
      "source": [
        "from google.colab import drive\n",
        "drive.mount('/content/drive')"
      ],
      "execution_count": 9,
      "outputs": [
        {
          "output_type": "stream",
          "text": [
            "Drive already mounted at /content/drive; to attempt to forcibly remount, call drive.mount(\"/content/drive\", force_remount=True).\n"
          ],
          "name": "stdout"
        }
      ]
    },
    {
      "cell_type": "markdown",
      "metadata": {
        "id": "xGiXJnno9fFI",
        "colab_type": "text"
      },
      "source": [
        "Then load the data for training. The dataset (X) contains 2 numpy arrays with the galaxy images (128*128 pixels) and the known effective radii for every galaxy. For the training we are using Single Sersic Models convolved with an HST PSF and with real HST noise added. The effective size of the modeled galaxies is thus known and stored in vector Y. The goal is to estimate Y from X."
      ]
    },
    {
      "cell_type": "code",
      "metadata": {
        "id": "uhIqCwEg9UUd",
        "colab_type": "code",
        "colab": {}
      },
      "source": [
        "#Load data\n",
        "pathinData=\"/content/drive/My Drive/EDE2019/spectra\"\n",
        "\n",
        "#images\n",
        "spectra = np.load(pathinData+'/flux.npy')\n",
        "\n",
        "#wavelength\n",
        "\n",
        "wl = np.load(pathinData+'/wl.npy')\n",
        "\n",
        "#labels\n",
        "label = np.load(pathinData+'/bpt_labels.npy') \n"
      ],
      "execution_count": 0,
      "outputs": []
    },
    {
      "cell_type": "markdown",
      "metadata": {
        "id": "aUc4GM_PeRG0",
        "colab_type": "text"
      },
      "source": [
        "## Visualize Spectra"
      ]
    },
    {
      "cell_type": "code",
      "metadata": {
        "id": "6yAnZuFuXMpt",
        "colab_type": "code",
        "outputId": "bf9ed6b1-f2c4-4b74-d5e2-f200d02c7523",
        "colab": {
          "base_uri": "https://localhost:8080/",
          "height": 297
        }
      },
      "source": [
        "stretch = SqrtStretch() \n",
        "\n",
        "randomized_inds_train = np.random.permutation(len(spectra))\n",
        "\n",
        "\n",
        "fig = plt.figure()\n",
        "for i,j in zip(randomized_inds_train[0:4],range(4)):\n",
        "  ax = fig.add_subplot(2, 2, j+1)\n",
        "  plt.plot(wl,spectra[i,:])\n",
        "  #im = ax.imshow(x_train[i,:,:,0], origin='lower', cmap='gray',\n",
        "    #vmin=vmin, norm=norm,vmax=vmax)\n",
        "  plt.title('BPT='+str(label[i]))\n",
        "  fig.tight_layout() \n",
        "  #fig.colorbar(im)\n"
      ],
      "execution_count": 14,
      "outputs": [
        {
          "output_type": "display_data",
          "data": {
            "image/png": "[encoded data removed]",
            "text/plain": [
              "<Figure size 432x288 with 4 Axes>"
            ]
          },
          "metadata": {
            "tags": [],
            "needs_background": "light"
          }
        }
      ]
    },
    {
      "cell_type": "markdown",
      "metadata": {
        "id": "Uh5-oVoOWEMv",
        "colab_type": "text"
      },
      "source": [
        "## Model Setup"
      ]
    },
    {
      "cell_type": "markdown",
      "metadata": {
        "id": "MXsoNEpR6mYH",
        "colab_type": "text"
      },
      "source": [
        "Your goal is to setup a VAE that takes as input the spectra we plotted above and learns to generate them. Then you can plot the embeded space and see if things do cluster. Feel free to try differnt approaches!"
      ]
    },
    {
      "cell_type": "markdown",
      "metadata": {
        "id": "L8ImerAH8kL8",
        "colab_type": "text"
      },
      "source": [
        "## Plotting the results\n",
        "Plot here the results of your embeddings"
      ]
    }
  ]
}