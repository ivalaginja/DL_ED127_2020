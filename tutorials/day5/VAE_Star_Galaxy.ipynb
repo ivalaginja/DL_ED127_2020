{
  "nbformat": 4,
  "nbformat_minor": 0,
  "metadata": {
    "colab": {
      "name": "VAE_Star_Galaxy.ipynb",
      "provenance": [],
      "include_colab_link": true
    },
    "kernelspec": {
      "name": "python3",
      "display_name": "Python 3"
    },
    "accelerator": "GPU"
  },
  "cells": [
    {
      "cell_type": "markdown",
      "metadata": {
        "id": "view-in-github",
        "colab_type": "text"
      },
      "source": [
        "<a href=\"https://colab.research.google.com/github/mhuertascompany/DL_ED127_2020/blob/master/tutorials/day5/VAE_Star_Galaxy.ipynb\" target=\"_parent\"><img src=\"https://colab.research.google.com/assets/colab-badge.svg\" alt=\"Open In Colab\"/></a>"
      ]
    },
    {
      "cell_type": "markdown",
      "metadata": {
        "id": "bw7YySlOXq3H",
        "colab_type": "text"
      },
      "source": [
        "#Unsupervised Star-Galaxy Separation\n",
        "\n",
        "The goal of this tutorial is to build an unsupervised star-galaxy separation using Convolutional Variational Auto-Encoders. \n",
        "\n",
        "We train a convolutional autoencoder (CVAE) with stamps of images of stars and galaxies (without any labels). We then explore the latent space learned by the CVAE and check tha the CVAE has learned that there were 2 different populations in the dataset.\n",
        "\n",
        "The dataset used for training is taken from COSMOS.\n",
        "\n",
        "---\n",
        "\n",
        "\n",
        "\n",
        "#### Before we start, make sure to open this Colab notebook in \"PlayGround Mode\" (top left) and to change the Runtime type to GPU by navigating to the toolbar and clicking Runtime -> Change runtime type and then changing Hardware accelerator to GPU\n",
        "\n",
        "---"
      ]
    },
    {
      "cell_type": "code",
      "metadata": {
        "id": "Hpv-XO8Sxgvi",
        "colab_type": "code",
        "outputId": "57246991-2ef1-48d3-912d-a61842a16cfa",
        "colab": {
          "base_uri": "https://localhost:8080/",
          "height": 34
        }
      },
      "source": [
        "import os\n",
        "import sys\n",
        "import tarfile\n",
        "from urllib.request import urlretrieve\n",
        "import tensorflow.compat.v2 as tf\n",
        "tf.enable_v2_behavior()\n",
        "import tensorflow_datasets as tfds\n",
        "\n",
        "\n",
        "import numpy as np\n",
        "import matplotlib.pyplot as plt\n",
        "import pdb\n",
        "import umap\n",
        "\n",
        "import tensorflow_probability as tfp\n",
        "\n",
        "\n",
        "tfk = tf.keras\n",
        "tfkl = tf.keras.layers\n",
        "tfpl = tfp.layers\n",
        "tfd = tfp.distributions\n",
        "\n",
        "%pylab inline"
      ],
      "execution_count": 2,
      "outputs": [
        {
          "output_type": "stream",
          "text": [
            "Populating the interactive namespace from numpy and matplotlib\n"
          ],
          "name": "stdout"
        }
      ]
    },
    {
      "cell_type": "markdown",
      "metadata": {
        "id": "u1PqZCKlVSMJ",
        "colab_type": "text"
      },
      "source": [
        "## Data download and preparation\n",
        "\n",
        "Before mounting the drive click on [this folder](https://drive.google.com/drive/folders/1PcftgBzBySo1Ync-Wdsp9arTCJ_MfEPE?usp=sharing) and add it to your google drive by following these steps:\n",
        "\n",
        "*   Go to your drive \n",
        "*   Find shared folder (\"Shared with me\" link)\n",
        "*   Right click it\n",
        "*   Click Add to My Drive\n",
        "\n"
      ]
    },
    {
      "cell_type": "code",
      "metadata": {
        "id": "HRoY9_k5FlN6",
        "colab_type": "code",
        "outputId": "316ba149-9f0e-4aca-e1c0-2349eaa751b8",
        "colab": {
          "base_uri": "https://localhost:8080/",
          "height": 122
        }
      },
      "source": [
        "from google.colab import drive\n",
        "drive.mount('/content/drive')"
      ],
      "execution_count": 3,
      "outputs": [
        {
          "output_type": "stream",
          "text": [
            "Go to this URL in a browser: https://accounts.google.com/o/oauth2/auth?client_id=947318989803-6bn6qk8qdgf4n4g3pfee6491hc0brc4i.apps.googleusercontent.com&redirect_uri=urn%3aietf%3awg%3aoauth%3a2.0%3aoob&response_type=code&scope=email%20https%3a%2f%2fwww.googleapis.com%2fauth%2fdocs.test%20https%3a%2f%2fwww.googleapis.com%2fauth%2fdrive%20https%3a%2f%2fwww.googleapis.com%2fauth%2fdrive.photos.readonly%20https%3a%2f%2fwww.googleapis.com%2fauth%2fpeopleapi.readonly\n",
            "\n",
            "Enter your authorization code:\n",
            "··········\n",
            "Mounted at /content/drive\n"
          ],
          "name": "stdout"
        }
      ]
    },
    {
      "cell_type": "markdown",
      "metadata": {
        "id": "_3UL4LY330-k",
        "colab_type": "text"
      },
      "source": [
        "### Load data"
      ]
    },
    {
      "cell_type": "code",
      "metadata": {
        "id": "_dwLGPyqey_z",
        "colab_type": "code",
        "colab": {}
      },
      "source": [
        "pathinData=\"/content/drive/My Drive/EDE2019/star-galaxy\"\n",
        "\n",
        "\n",
        "# donwload feature vector and labels\n",
        "X_ML = np.load(pathinData+'/x_train.npy')\n",
        "#morphological class\n",
        "Y_ML = np.load(pathinData+'/y_train.npy') \n",
        "#X_ML=X_ML-np.min(X_ML)\n",
        "#print(X_ML.min())\n",
        "#X_ML=X_ML/np.max(X_ML)\n",
        "X_ML=(X_ML[:,30-14:30+14,30-14:30+14,:])\n",
        "\n",
        "for i in range(len(X_ML)):\n",
        "  X_ML[i,:,:]=(X_ML[i,:,:]-np.mean(X_ML[i,:,:]))/np.std(X_ML[i,:,:])\n",
        "\n",
        "x_train=X_ML[0:int(len(X_ML)*4/5),:,:]\n",
        "x_test=X_ML[int(len(X_ML)*4/5)::,:,:]\n",
        "\n",
        "y_train=Y_ML[0:int(len(X_ML)*4/5)]\n",
        "y_test=Y_ML[int(len(X_ML)*4/5)::]"
      ],
      "execution_count": 0,
      "outputs": []
    },
    {
      "cell_type": "markdown",
      "metadata": {
        "id": "qpyzBpli33Xm",
        "colab_type": "text"
      },
      "source": [
        "### Plot some random example\n",
        "Run multiple times to see more than one example. Class0 are stars, Class1 are galaxies."
      ]
    },
    {
      "cell_type": "code",
      "metadata": {
        "id": "xFw7AHgJGKkA",
        "colab_type": "code",
        "outputId": "23c4d129-c34c-44a3-a002-c55b026cc06e",
        "colab": {
          "base_uri": "https://localhost:8080/",
          "height": 297
        }
      },
      "source": [
        "randomized_inds_train = np.random.permutation(len(x_train))\n",
        "\n",
        "fig = plt.figure()\n",
        "for i,j in zip(randomized_inds_train[0:4],range(4)):\n",
        "  ax = fig.add_subplot(2, 2, j+1)\n",
        "  im = ax.imshow(X_ML[i,:,:,0])\n",
        "  plt.title('$Class$='+str(y_train[i]))\n",
        "  fig.tight_layout() \n",
        "  fig.colorbar(im)"
      ],
      "execution_count": 9,
      "outputs": [
        {
          "output_type": "display_data",
          "data": {
            "image/png": "[encoded data removed]",
            "text/plain": [
              "<Figure size 432x288 with 8 Axes>"
            ]
          },
          "metadata": {
            "tags": [],
            "needs_background": "light"
          }
        }
      ]
    },
    {
      "cell_type": "markdown",
      "metadata": {
        "id": "uSg9lTx76yuh",
        "colab_type": "text"
      },
      "source": [
        "## Model Setup\n",
        "\n",
        "The following cells set up the model in TensorFlow. We have set up a very basic Convolutional Encoder-Decoder. It does not perform super well for this problem. I encourage you to try to modify this network to achieve better results. You should in particular try to reduce more the dimension of the bottleneck (end of encoder)."
      ]
    },
    {
      "cell_type": "code",
      "metadata": {
        "id": "897YRxETQMSE",
        "colab_type": "code",
        "colab": {}
      },
      "source": [
        "def pack_images(images, rows, cols):\n",
        "    \"\"\"Helper utility to make a field of images.\"\"\"\n",
        "    shape = tf.shape(images)\n",
        "    width = shape[-3]\n",
        "    height = shape[-2]\n",
        "    depth = shape[-1]\n",
        "    images = tf.reshape(images, (-1, width, height, depth))\n",
        "    batch = tf.shape(images)[0]\n",
        "    rows = tf.minimum(rows, batch)\n",
        "    cols = tf.minimum(batch // rows, cols)\n",
        "    images = images[:rows * cols]\n",
        "    images = tf.reshape(images, (rows, cols, width, height, depth))\n",
        "    images = tf.transpose(images, [0, 2, 1, 3, 4])\n",
        "    images = tf.reshape(images, [1, rows * width, cols * height, depth])\n",
        "    return images\n",
        "\n",
        "\n",
        "def image_tile_summary(name, tensor, rows=8, cols=8):\n",
        "    tf.summary.image(name, pack_images(tensor, rows, cols), max_outputs=1)\n",
        "\n",
        "\n",
        "input_shape = (28,28,1)\n",
        "encoded_size = 16  # THIS IS THE SIZE OF THE BOTTLENECK --> FEEL FREE TO CHANGE\n",
        "# AND EXPLORE\n",
        "base_depth = 32\n",
        "\n",
        "\n",
        "prior = tfd.Independent(tfd.Normal(loc=tf.zeros(encoded_size), scale=1),\n",
        "                        reinterpreted_batch_ndims=1)\n",
        "\n",
        "encoder = tfk.Sequential([\n",
        "    tfkl.InputLayer(input_shape=input_shape),\n",
        "    #tfkl.Lambda(lambda x: tf.cast(x, tf.float32) - 0.5),\n",
        "    tfkl.Conv2D(base_depth, 5, strides=1,\n",
        "                padding='same', activation=tf.nn.leaky_relu),\n",
        "    tfkl.Conv2D(base_depth, 5, strides=2,\n",
        "                padding='same', activation=tf.nn.leaky_relu),\n",
        "    tfkl.Conv2D(2 * base_depth, 5, strides=1,\n",
        "                padding='same', activation=tf.nn.leaky_relu),\n",
        "    tfkl.Conv2D(2 * base_depth, 5, strides=2,\n",
        "                padding='same', activation=tf.nn.leaky_relu),\n",
        "    tfkl.Conv2D(4 * encoded_size, 7, strides=1,\n",
        "                padding='valid', activation=tf.nn.leaky_relu),\n",
        "    tfkl.Flatten(),\n",
        "    tfkl.Dense(tfpl.MultivariateNormalTriL.params_size(encoded_size),\n",
        "               activation=None),\n",
        "    tfpl.MultivariateNormalTriL(\n",
        "        encoded_size,\n",
        "        activity_regularizer=tfpl.KLDivergenceRegularizer(prior,weight=0.6)),\n",
        "])\n",
        "\n",
        "\n",
        "\n",
        "decoder = tfk.Sequential([\n",
        "    tfkl.InputLayer(input_shape=[encoded_size]),\n",
        "    tfkl.Reshape([1, 1, encoded_size]),\n",
        "    tfkl.Conv2DTranspose(2 * base_depth, 7, strides=1,\n",
        "                         padding='valid', activation=tf.nn.leaky_relu),\n",
        "    tfkl.Conv2DTranspose(2 * base_depth, 5, strides=1,\n",
        "                         padding='same', activation=tf.nn.leaky_relu),\n",
        "    tfkl.Conv2DTranspose(2 * base_depth, 5, strides=2,\n",
        "                         padding='same', activation=tf.nn.leaky_relu),\n",
        "    tfkl.Conv2DTranspose(base_depth, 5, strides=1,\n",
        "                         padding='same', activation=tf.nn.leaky_relu),\n",
        "    tfkl.Conv2DTranspose(base_depth, 5, strides=2,\n",
        "                         padding='same', activation=tf.nn.leaky_relu),\n",
        "    tfkl.Conv2DTranspose(base_depth, 5, strides=1,\n",
        "                         padding='same', activation=tf.nn.leaky_relu),\n",
        "    tfkl.Conv2D(filters=1, kernel_size=5, strides=1,\n",
        "                padding='same', activation=None),\n",
        "    tfkl.Flatten(),\n",
        "    \n",
        "    tfkl.Dense(tfpl.IndependentNormal.params_size(input_shape),activation=None),\n",
        "    #tfpl.IndependentNormal(input_shape, tfd.Normal.mean),\n",
        "    tfpl.IndependentNormal(input_shape, tfd.Normal.sample),\n",
        "    #tfpl.IndependentBernoulli(input_shape, tfd.Bernoulli.logits),\n",
        "])\n",
        "\n",
        "\n",
        "vae = tfk.Model(inputs=encoder.inputs,outputs=decoder(encoder.outputs[0]))\n",
        "\n",
        "\n",
        "\n",
        "def cae_model():\n",
        "\n",
        "    #Parameters of the model that can be modified\n",
        "    nfilters=16\n",
        "    \n",
        "    \n",
        "    input_layer=tfkl.InputLayer(input_shape=input_shape)\n",
        "\n",
        "    # Convolutional Layer #1\n",
        "    conv1 = tf.keras.layers.Conv2D(\n",
        "      32,\n",
        "      (3, 3),\n",
        "      padding=\"same\",\n",
        "      activation=tf.nn.relu)(input_layer)\n",
        "    \n",
        "    #pooling\n",
        "    pool1 = tf.keras.layers.MaxPooling2D((2,2))(conv1)\n",
        "    \n",
        "    #Convolutional Layer #2\n",
        "    conv2 = tf.keras.layers.Conv2D(\n",
        "      64,\n",
        "      (3, 3),\n",
        "      padding=\"same\",\n",
        "      activation=tf.nn.relu)(pool1)\n",
        "    \n",
        "    #pooling  \n",
        "    pool2=tf.keras.layers.MaxPooling2D((2,2))(conv2)\n",
        "    \n",
        "    #Convolutional Layer #2\n",
        "    conv3 = tf.keras.layers.Conv2D(\n",
        "      8,\n",
        "      (3, 3),\n",
        "      padding=\"same\",\n",
        "      activation=tf.nn.relu)(pool2)\n",
        "    \n",
        "    #pooling  \n",
        "    pool3=tf.keras.layers.MaxPooling2D((3,3))(conv3)\n",
        "    \n",
        "\n",
        "    # Deconvolutional Layer #1\n",
        "    deconv1 = tf.keras.layers.Conv2DTranspose(\n",
        "      8,\n",
        "      (3,3), \n",
        "      padding=\"same\",\n",
        "      strides=(3,3),\n",
        "      activation=tf.nn.relu)(pool3)\n",
        "    \n",
        "    deconv2 = tf.keras.layers.Conv2DTranspose(\n",
        "      64,\n",
        "      (3,3), \n",
        "      padding=\"same\",\n",
        "      strides=(2,2),\n",
        "      activation=tf.nn.relu)(deconv1)\n",
        "    \n",
        "    output = tf.keras.layers.Conv2DTranspose(\n",
        "      1,\n",
        "      (3,3), \n",
        "      padding=\"same\",\n",
        "      strides=(2,2),\n",
        "      activation=tf.nn.relu)(deconv2)\n",
        "\n",
        "    return tfk.Model(input_layer,output_layer)  \n",
        "       \n",
        "\n",
        "\n"
      ],
      "execution_count": 0,
      "outputs": []
    },
    {
      "cell_type": "markdown",
      "metadata": {
        "id": "MltdwyRD8O_c",
        "colab_type": "text"
      },
      "source": [
        "## Training the model"
      ]
    },
    {
      "cell_type": "code",
      "metadata": {
        "id": "yGFe-4etRYFX",
        "colab_type": "code",
        "colab": {}
      },
      "source": [
        "#Define output path - This folder will contain the trained model\n",
        "pathout='star-galaxy/models/vae1'\n",
        "\n",
        "#Set RESET=True to delete all previous runs of the same model\n",
        "RESET=False\n",
        "if RESET:\n",
        "  tf.summary.FileWriterCache.clear()\n",
        "  os.system(\"rm -rf \"+ pathout)"
      ],
      "execution_count": 0,
      "outputs": []
    },
    {
      "cell_type": "markdown",
      "metadata": {
        "id": "NyXCBjxYLxQP",
        "colab_type": "text"
      },
      "source": [
        "Train first for 1000 steps. This is just a trick to run TensorBoard on the notebook and follow the training."
      ]
    },
    {
      "cell_type": "code",
      "metadata": {
        "id": "YEohb1jpRdwB",
        "colab_type": "code",
        "outputId": "80a76bc7-fed2-4981-cbae-79a96111f72f",
        "colab": {
          "base_uri": "https://localhost:8080/",
          "height": 697
        }
      },
      "source": [
        "negloglik = lambda x, rv_x: -rv_x.log_prob(x)\n",
        "\n",
        "vae.compile(optimizer=tf.optimizers.Adam(learning_rate=1e-3),\n",
        "            loss=negloglik)\n",
        "\n",
        "hist = vae.fit(x_train,x_train,epochs=20)\n"
      ],
      "execution_count": 14,
      "outputs": [
        {
          "output_type": "stream",
          "text": [
            "Epoch 1/20\n",
            "187/187 [==============================] - 2s 12ms/step - loss: 583.8691\n",
            "Epoch 2/20\n",
            "187/187 [==============================] - 2s 11ms/step - loss: 426.4614\n",
            "Epoch 3/20\n",
            "187/187 [==============================] - 2s 11ms/step - loss: 401.9234\n",
            "Epoch 4/20\n",
            "187/187 [==============================] - 2s 11ms/step - loss: 395.0179\n",
            "Epoch 5/20\n",
            "187/187 [==============================] - 2s 11ms/step - loss: 355.4839\n",
            "Epoch 6/20\n",
            "187/187 [==============================] - 2s 11ms/step - loss: 354.9939\n",
            "Epoch 7/20\n",
            "187/187 [==============================] - 2s 11ms/step - loss: 337.5934\n",
            "Epoch 8/20\n",
            "187/187 [==============================] - 2s 11ms/step - loss: 327.3497\n",
            "Epoch 9/20\n",
            "187/187 [==============================] - 2s 11ms/step - loss: 323.0688\n",
            "Epoch 10/20\n",
            "187/187 [==============================] - 2s 11ms/step - loss: 311.4478\n",
            "Epoch 11/20\n",
            "187/187 [==============================] - 2s 11ms/step - loss: 303.9607\n",
            "Epoch 12/20\n",
            "187/187 [==============================] - 2s 11ms/step - loss: 285.1508\n",
            "Epoch 13/20\n",
            "187/187 [==============================] - 2s 11ms/step - loss: 287.5128\n",
            "Epoch 14/20\n",
            "187/187 [==============================] - 2s 11ms/step - loss: 277.4118\n",
            "Epoch 15/20\n",
            "187/187 [==============================] - 2s 11ms/step - loss: 266.8400\n",
            "Epoch 16/20\n",
            "187/187 [==============================] - 2s 11ms/step - loss: 264.8694\n",
            "Epoch 17/20\n",
            "187/187 [==============================] - 2s 11ms/step - loss: 237.1021\n",
            "Epoch 18/20\n",
            "187/187 [==============================] - 2s 11ms/step - loss: 256.7082\n",
            "Epoch 19/20\n",
            "187/187 [==============================] - 2s 11ms/step - loss: 233.4073\n",
            "Epoch 20/20\n",
            "187/187 [==============================] - 2s 11ms/step - loss: 234.6622\n"
          ],
          "name": "stdout"
        }
      ]
    },
    {
      "cell_type": "markdown",
      "metadata": {
        "id": "6C2ey9JtUjpb",
        "colab_type": "text"
      },
      "source": [
        "## Predictions and evaluation"
      ]
    },
    {
      "cell_type": "code",
      "metadata": {
        "id": "zgPergdWHT3c",
        "colab_type": "code",
        "colab": {
          "base_uri": "https://localhost:8080/",
          "height": 136
        },
        "outputId": "6f131265-0530-4a1c-a50d-f72169692a63"
      },
      "source": [
        "#predict 10 examples\n",
        "\n",
        "xhat = vae(x_test[0:10])\n",
        "assert isinstance(xhat, tfd.Distribution)\n",
        "\n",
        "print(x_test.shape)\n",
        "pdb.set_trace()"
      ],
      "execution_count": 18,
      "outputs": [
        {
          "output_type": "stream",
          "text": [
            "(1489, 28, 28, 1)\n",
            "--Call--\n",
            "> /usr/local/lib/python3.6/dist-packages/IPython/core/displayhook.py(236)__call__()\n",
            "-> def __call__(self, result=None):\n",
            "(Pdb) print(xhat.sample().shape)\n",
            "*** NameError: name 'xhat' is not defined\n",
            "(Pdb) c\n"
          ],
          "name": "stdout"
        }
      ]
    },
    {
      "cell_type": "code",
      "metadata": {
        "id": "Z2T-duNTTi71",
        "colab_type": "code",
        "outputId": "e3c1d95c-0ecd-4b82-b098-9f91ffe5e100",
        "colab": {
          "base_uri": "https://localhost:8080/",
          "height": 577
        }
      },
      "source": [
        "fig = plt.figure()\n",
        "for i,j in zip(range(10),range(4)):\n",
        "  ax = fig.add_subplot(2, 2, j+1)\n",
        "  im = ax.imshow(x_test[i,:,:,0])\n",
        "  plt.title('$Class$='+str(y_test[i]))\n",
        "  fig.tight_layout() \n",
        "  fig.colorbar(im)\n",
        "\n",
        "fig = plt.figure()\n",
        "for i,j in zip(range(10),range(4)):\n",
        "  ax = fig.add_subplot(2, 2, j+1)\n",
        "  im = ax.imshow(xhat.sample()[i,:,:,0])\n",
        "  plt.title('$Class$='+str(y_test[i]))\n",
        "  fig.tight_layout() \n",
        "  fig.colorbar(im)"
      ],
      "execution_count": 20,
      "outputs": [
        {
          "output_type": "display_data",
          "data": {
            "image/png": "[encoded data removed]",
            "text/plain": [
              "<Figure size 432x288 with 8 Axes>"
            ]
          },
          "metadata": {
            "tags": [],
            "needs_background": "light"
          }
        },
        {
          "output_type": "display_data",
          "data": {
            "image/png": "[encoded data removed]",
            "text/plain": [
              "<Figure size 432x288 with 8 Axes>"
            ]
          },
          "metadata": {
            "tags": [],
            "needs_background": "light"
          }
        }
      ]
    },
    {
      "cell_type": "code",
      "metadata": {
        "id": "KiZd6NsZnvOq",
        "colab_type": "code",
        "colab": {}
      },
      "source": [
        "# Now, let's generate ten never-before-seen galaxies and stars.\n",
        "z = prior.sample(10)\n",
        "xtilde = decoder(z)\n",
        "assert isinstance(xtilde, tfd.Distribution)"
      ],
      "execution_count": 0,
      "outputs": []
    },
    {
      "cell_type": "code",
      "metadata": {
        "id": "D-FXD9_WnxVG",
        "colab_type": "code",
        "outputId": "58053b08-0fa0-4699-b9d9-0a3ce0b9cb1a",
        "colab": {
          "base_uri": "https://localhost:8080/",
          "height": 297
        }
      },
      "source": [
        "fig = plt.figure()\n",
        "for i,j in zip(range(10),range(4)):\n",
        "  ax = fig.add_subplot(2, 2, j+1)\n",
        "  im = ax.imshow(xtilde.sample()[i,:,:,0])\n",
        "  fig.tight_layout() \n",
        "  fig.colorbar(im)"
      ],
      "execution_count": 24,
      "outputs": [
        {
          "output_type": "display_data",
          "data": {
            "image/png": "[encoded data removed]",
            "text/plain": [
              "<Figure size 432x288 with 8 Axes>"
            ]
          },
          "metadata": {
            "tags": [],
            "needs_background": "light"
          }
        }
      ]
    },
    {
      "cell_type": "markdown",
      "metadata": {
        "id": "86kAD7QxL45u",
        "colab_type": "text"
      },
      "source": [
        "Run TensorBoard. You should see an orange panel appearing. If it's not the case, try again running the cell. "
      ]
    },
    {
      "cell_type": "markdown",
      "metadata": {
        "id": "NCyEH_j3ogoD",
        "colab_type": "text"
      },
      "source": [
        "## Visualizing the feature space"
      ]
    },
    {
      "cell_type": "markdown",
      "metadata": {
        "id": "B1J4w5RpaA4W",
        "colab_type": "text"
      },
      "source": [
        "How would you do to visualize the feature space?\n",
        "You need to call the encoder for a given image and sample from it...\n",
        "\n"
      ]
    },
    {
      "cell_type": "markdown",
      "metadata": {
        "id": "GjsoMMP5aLc2",
        "colab_type": "text"
      },
      "source": [
        "Explore the latent space with UMAP"
      ]
    }
  ]
}